{
 "cells": [
  {
   "cell_type": "code",
   "execution_count": null,
   "metadata": {},
   "outputs": [],
   "source": [
    "import pandas as pd\n",
    "import requests\n",
    "import json\n",
    "import csv\n",
    "import time\n",
    "import datetime"
   ]
  },
  {
   "cell_type": "code",
   "execution_count": null,
   "metadata": {},
   "outputs": [],
   "source": [
    "# Function for building PushShift URLs\n",
    "# as seen in https://medium.com/@RareLoot/using-pushshifts-\n",
    "# api-to-extract-reddit-submissions-fb517b286563\n",
    "\n",
    "def getPushshiftData(query, after, before):\n",
    "    url = 'https://api.pushshift.io/reddit/search/comment/?q='+str(query)+'&size=1000&after='+str(after)+'&before='+str(before)\n",
    "    print(url)\n",
    "    r = requests.get(url)\n",
    "    data = json.loads(r.text)\n",
    "    return data['data']"
   ]
  },
  {
   "cell_type": "code",
   "execution_count": null,
   "metadata": {},
   "outputs": [],
   "source": [
    "# Function to extract key data points\n",
    "# as seen in https://medium.com/@RareLoot/using-pushshifts-\n",
    "# api-to-extract-reddit-submissions-fb517b286563\n",
    "\n",
    "def collectSubData(subm):\n",
    "    subData = list() #list to store data points\n",
    "    comment_id = subm['id']\n",
    "    text = subm['body']\n",
    "    try:\n",
    "        flair = subm['author_flair_text']\n",
    "    except KeyError:\n",
    "        flair = \"NaN\"    \n",
    "    author = subm['author']\n",
    "    is_submitter = subm['is_submitter']\n",
    "    subreddit = subm['subreddit']\n",
    "    sub_id = subm['subreddit_id']\n",
    "    score = subm['score']\n",
    "    parent_id = subm['parent_id']\n",
    "    permalink = subm['permalink']\n",
    "    \n",
    "    created = datetime.datetime.fromtimestamp(subm['created_utc']) #1520561700.0\n",
    "    \n",
    "    subData.append((comment_id,text,flair,author,is_submitter,subreddit,\n",
    "                    sub_id,score,parent_id,permalink,created))\n",
    "    subStats[comment_id] = subData"
   ]
  },
  {
   "cell_type": "code",
   "execution_count": null,
   "metadata": {},
   "outputs": [],
   "source": [
    "# Parameters to query:\n",
    "# All submissions with “face mask” in their title between 1st Jan ’20\n",
    "# and 22 May ’20. \n",
    "# subCount tracks the no. of total submissions we collect. \n",
    "# subStats is the dictionary where we will store our data.\n",
    "\n",
    "\n",
    "# before and after dates (Unix Timestamp)\n",
    "after = \"1582329600\" # 04/01/2018 @ 12:00am (UTC)\n",
    "before = \"1590182370\"  # 03/01/2018 @ 12:00am (UTC)\n",
    "query = \"face-mask\"\n",
    "subCount = 0\n",
    "subStats = {}"
   ]
  },
  {
   "cell_type": "code",
   "execution_count": null,
   "metadata": {
    "scrolled": true
   },
   "outputs": [],
   "source": [
    "# Run code\n",
    "data = getPushshiftData(query, after, before)\n",
    "\n",
    "\n",
    "# Will run until all posts have been gathered \n",
    "# from the 'after' date up until before date\n",
    "while len(data) > 0:\n",
    "    for submission in data:\n",
    "        collectSubData(submission)\n",
    "        subCount+=1\n",
    "    # Calls getPushshiftData() with the created date of the last submission\n",
    "    print(len(data))\n",
    "    print(str(datetime.datetime.fromtimestamp(data[-1]['created_utc'])))\n",
    "    after = data[-1]['created_utc']\n",
    "    data = getPushshiftData(query, after, before)\n",
    "    \n",
    "print(len(data))"
   ]
  },
  {
   "cell_type": "code",
   "execution_count": null,
   "metadata": {},
   "outputs": [],
   "source": [
    "# Check comments\n",
    "print(str(len(subStats)) + \" comments have added to list\")\n",
    "print(\"1st entry is:\")\n",
    "print(list(subStats.values())[0][0][1] + \" created: \" + str(list(subStats.values())[0][0][5]))\n",
    "print(\"Last entry is:\")\n",
    "print(list(subStats.values())[-1][0][1] + \" created: \" + str(list(subStats.values())[-1][0][5]))"
   ]
  },
  {
   "cell_type": "code",
   "execution_count": null,
   "metadata": {},
   "outputs": [],
   "source": [
    "# Upload to csv file\n",
    "def updateSubs_file():\n",
    "    upload_count = 0\n",
    "    location = \"/Users/merle-sophie/Desktop/FTL Hackathon 052020/Data\"\n",
    "    filename = \"_Reddit_FaceMasks.csv\"\n",
    "    file = location + filename\n",
    "    with open(file, 'w', newline='', encoding='utf-8') as file: \n",
    "        a = csv.writer(file, delimiter=',')\n",
    "       # subData.append((comment_id,text,flair,author,is_submitter,subreddit,\n",
    "       #             sub_id,score,parent_id,permalink))\n",
    "        headers = [\"Comment ID\",\"Text\",\"Flair\",\"Author\",\"Is Submitter\",\"Subreddit\",\"Sub Id\",\"Score\",\"Parent Id\", \"Permalink\", \"Created Date\"]\n",
    "        a.writerow(headers)\n",
    "        for sub in subStats:\n",
    "            a.writerow(subStats[sub][0])\n",
    "            upload_count+=1\n",
    "            \n",
    "        print(str(upload_count) + \" comments have been uploaded\")\n",
    "updateSubs_file()"
   ]
  }
 ],
 "metadata": {
  "kernelspec": {
   "display_name": "Python 3",
   "language": "python",
   "name": "python3"
  },
  "language_info": {
   "codemirror_mode": {
    "name": "ipython",
    "version": 3
   },
   "file_extension": ".py",
   "mimetype": "text/x-python",
   "name": "python",
   "nbconvert_exporter": "python",
   "pygments_lexer": "ipython3",
   "version": "3.7.3"
  }
 },
 "nbformat": 4,
 "nbformat_minor": 2
}
